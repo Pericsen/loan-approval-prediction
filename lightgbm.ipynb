{
 "cells": [
  {
   "cell_type": "code",
   "execution_count": 105,
   "metadata": {},
   "outputs": [],
   "source": [
    "import pandas as pd\n",
    "import numpy as np\n",
    "import matplotlib.pyplot as plt\n",
    "import seaborn as sns\n",
    "import warnings\n",
    "from sklearn.preprocessing import OrdinalEncoder, StandardScaler, OneHotEncoder\n",
    "from sklearn.model_selection import train_test_split, RandomizedSearchCV, GridSearchCV, StratifiedKFold\n",
    "from sklearn.linear_model import LogisticRegression\n",
    "from sklearn.metrics import classification_report, accuracy_score, roc_curve, auc, confusion_matrix, ConfusionMatrixDisplay, roc_auc_score, precision_score, recall_score, f1_score\n",
    "from sklearn.pipeline import make_pipeline\n",
    "from sklearn.compose import ColumnTransformer\n",
    "from sklearn.pipeline import Pipeline\n",
    "from sklearn.impute import SimpleImputer\n",
    "from imblearn.over_sampling import SMOTE\n",
    "from lightgbm import LGBMClassifier\n",
    "\n",
    "from scipy import stats\n",
    "from imblearn.pipeline import Pipeline\n",
    "\n",
    "warnings.filterwarnings('ignore')"
   ]
  },
  {
   "cell_type": "code",
   "execution_count": 106,
   "metadata": {},
   "outputs": [],
   "source": [
    "train = pd.read_csv('./data/train.csv')\n",
    "test = pd.read_csv('./data/test.csv')\n",
    "\n",
    "test_id = test['id']"
   ]
  },
  {
   "cell_type": "code",
   "execution_count": 107,
   "metadata": {},
   "outputs": [],
   "source": [
    "X = train.drop(['loan_status'], axis=1)\n",
    "y = train['loan_status']\n",
    "\n",
    "X_train, X_val, y_train, y_val = train_test_split(X, y, test_size=0.3, random_state=42)\n",
    "\n",
    "vars_cat = ['person_home_ownership', 'loan_intent', 'loan_grade', 'cb_person_default_on_file']\n",
    "vars_num = X_train.select_dtypes(include=['float64', 'int64']).columns\n",
    "\n",
    "numeric_transformer = Pipeline(steps=[\n",
    "    ('imputer', SimpleImputer(strategy='median')),\n",
    "    ('scaler', StandardScaler())\n",
    "])\n",
    "\n",
    "categorical_transformer = Pipeline(steps=[\n",
    "    ('onehot', OneHotEncoder(handle_unknown='ignore'))\n",
    "])\n",
    "\n",
    "preprocessor = ColumnTransformer(transformers=[\n",
    "    ('num', numeric_transformer, vars_num),\n",
    "    ('cat', categorical_transformer, vars_cat),\n",
    "])\n",
    "\n",
    "X_train = preprocessor.fit_transform(X_train)\n",
    "X_val = preprocessor.transform(X_val)"
   ]
  },
  {
   "cell_type": "code",
   "execution_count": 108,
   "metadata": {},
   "outputs": [
    {
     "name": "stdout",
     "output_type": "stream",
     "text": [
      "Fitting 5 folds for each of 10 candidates, totalling 50 fits\n",
      "AUC CV: 0.96\n"
     ]
    }
   ],
   "source": [
    "folds=StratifiedKFold(n_splits=5,shuffle=True, random_state=42)\n",
    "\n",
    "param_dist = {'learning_rate': stats.uniform(0.01, 0.99),\n",
    "              'max_depth': stats.randint(2, 12),\n",
    "              'subsample': stats.uniform(0.1, 1),\n",
    "              'colsample_bytree': stats.uniform(0.1, 1),\n",
    "              'n_estimators': stats.randint(50, 1000),\n",
    "              'reg_lambda': stats.uniform(0.0001, 1),\n",
    "              'reg_alpha': stats.uniform(0.0001, 1)\n",
    "              }\n",
    "\n",
    "classifier = LGBMClassifier(use_label_encoder=False,random_state=42)\n",
    "cv = StratifiedKFold(n_splits=5, random_state=42, shuffle=True)\n",
    "lgbm = RandomizedSearchCV(classifier,param_dist,cv=cv, verbose=1,scoring='roc_auc',n_iter=10,random_state=42)\n",
    "\n",
    "lgbm.fit(X_train,y_train)\n",
    "print(f'AUC CV: {round(lgbm.best_score_,2)}')"
   ]
  },
  {
   "cell_type": "code",
   "execution_count": 111,
   "metadata": {},
   "outputs": [
    {
     "name": "stdout",
     "output_type": "stream",
     "text": [
      "AUC-ROC Score: 0.96\n",
      "Accuracy Score: 0.95\n",
      "\n",
      "Classification Report:\n",
      "              precision    recall  f1-score   support\n",
      "\n",
      "           0       0.96      0.99      0.97     15126\n",
      "           1       0.92      0.73      0.82      2468\n",
      "\n",
      "    accuracy                           0.95     17594\n",
      "   macro avg       0.94      0.86      0.89     17594\n",
      "weighted avg       0.95      0.95      0.95     17594\n",
      "\n"
     ]
    }
   ],
   "source": [
    "lgbm = LGBMClassifier(\n",
    "    **lgbm.best_params_, \n",
    "    random_state=42\n",
    ")\n",
    "\n",
    "# Train the model on the training set\n",
    "lgbm.fit(X_train, y_train)\n",
    "\n",
    "# Predictions (classes) and probabilities on the test set\n",
    "y_pred = lgbm.predict(X_val)  \n",
    "y_pred_prob = lgbm.predict_proba(X_val)[:, 1]  \n",
    "\n",
    "# Model evaluation\n",
    "auc_score = roc_auc_score(y_val, y_pred_prob)\n",
    "print(f\"AUC-ROC Score: {auc_score:.2f}\")\n",
    "\n",
    "accuracy = accuracy_score(y_val, y_pred)\n",
    "print(f\"Accuracy Score: {accuracy:.2f}\")\n",
    "\n",
    "print(\"\\nClassification Report:\")\n",
    "print(classification_report(y_val, y_pred))"
   ]
  },
  {
   "cell_type": "code",
   "execution_count": 112,
   "metadata": {},
   "outputs": [],
   "source": [
    "test = preprocessor.transform(test)\n",
    "\n",
    "y_pred_prob = lgbm.predict_proba(test)[:,1]\n",
    "predictions = pd.DataFrame(y_pred_prob)\n",
    "\n",
    "\n",
    "predictions = predictions.reset_index().rename(columns={\n",
    "    'index':'id',\n",
    "    0:'loan_status'\n",
    "})\n",
    "\n",
    "predictions['id'] = test_id\n"
   ]
  },
  {
   "cell_type": "code",
   "execution_count": 113,
   "metadata": {},
   "outputs": [
    {
     "data": {
      "text/plain": [
       "array([0.97672014, 0.02494523, 0.58068426, ..., 0.01312046, 0.32757343,\n",
       "       0.9402675 ])"
      ]
     },
     "execution_count": 113,
     "metadata": {},
     "output_type": "execute_result"
    }
   ],
   "source": [
    "y_pred_prob"
   ]
  },
  {
   "cell_type": "code",
   "execution_count": null,
   "metadata": {},
   "outputs": [],
   "source": [
    "predictions.to_csv(\"light_gbm_proba.csv\", index=False)"
   ]
  }
 ],
 "metadata": {
  "kernelspec": {
   "display_name": "env-analisis-predictivo",
   "language": "python",
   "name": "python3"
  },
  "language_info": {
   "codemirror_mode": {
    "name": "ipython",
    "version": 3
   },
   "file_extension": ".py",
   "mimetype": "text/x-python",
   "name": "python",
   "nbconvert_exporter": "python",
   "pygments_lexer": "ipython3",
   "version": "3.9.21"
  }
 },
 "nbformat": 4,
 "nbformat_minor": 2
}
