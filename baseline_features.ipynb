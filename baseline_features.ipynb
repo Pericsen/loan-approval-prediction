{
 "cells": [
  {
   "cell_type": "code",
   "execution_count": 32,
   "metadata": {},
   "outputs": [],
   "source": [
    "from sklearn.preprocessing import OrdinalEncoder, StandardScaler, OneHotEncoder\n",
    "from sklearn.model_selection import train_test_split\n",
    "from sklearn.linear_model import LogisticRegression\n",
    "from sklearn.metrics import classification_report, accuracy_score, roc_curve, auc, confusion_matrix, ConfusionMatrixDisplay, roc_auc_score\n",
    "from sklearn.pipeline import make_pipeline\n",
    "from sklearn.compose import ColumnTransformer\n",
    "from sklearn.pipeline import Pipeline\n",
    "from sklearn.impute import SimpleImputer\n",
    "import pandas as pd\n",
    "import matplotlib.pyplot as plt"
   ]
  },
  {
   "cell_type": "code",
   "execution_count": 33,
   "metadata": {},
   "outputs": [],
   "source": [
    "train = pd.read_csv('./data/train_mod.csv')\n",
    "test = pd.read_csv('./data/test_mod.csv')"
   ]
  },
  {
   "cell_type": "markdown",
   "metadata": {},
   "source": [
    "## Sin sampleo"
   ]
  },
  {
   "cell_type": "code",
   "execution_count": 34,
   "metadata": {},
   "outputs": [
    {
     "data": {
      "text/html": [
       "<div>\n",
       "<style scoped>\n",
       "    .dataframe tbody tr th:only-of-type {\n",
       "        vertical-align: middle;\n",
       "    }\n",
       "\n",
       "    .dataframe tbody tr th {\n",
       "        vertical-align: top;\n",
       "    }\n",
       "\n",
       "    .dataframe thead th {\n",
       "        text-align: right;\n",
       "    }\n",
       "</style>\n",
       "<table border=\"1\" class=\"dataframe\">\n",
       "  <thead>\n",
       "    <tr style=\"text-align: right;\">\n",
       "      <th></th>\n",
       "      <th>person_age</th>\n",
       "      <th>person_income</th>\n",
       "      <th>person_emp_length</th>\n",
       "      <th>loan_amnt</th>\n",
       "      <th>loan_int_rate</th>\n",
       "      <th>loan_percent_income</th>\n",
       "      <th>cb_person_default_on_file</th>\n",
       "      <th>cb_person_cred_hist_length</th>\n",
       "      <th>loan_status</th>\n",
       "      <th>income_loan_ratio</th>\n",
       "      <th>...</th>\n",
       "      <th>person_home_ownership_freq</th>\n",
       "      <th>loan_intent_freq</th>\n",
       "      <th>loan_grade_freq</th>\n",
       "      <th>age_category_freq</th>\n",
       "      <th>emp_length_group_freq</th>\n",
       "      <th>person_home_ownership_target</th>\n",
       "      <th>loan_intent_target</th>\n",
       "      <th>loan_grade_target</th>\n",
       "      <th>age_category_target</th>\n",
       "      <th>emp_length_group_target</th>\n",
       "    </tr>\n",
       "    <tr>\n",
       "      <th>id</th>\n",
       "      <th></th>\n",
       "      <th></th>\n",
       "      <th></th>\n",
       "      <th></th>\n",
       "      <th></th>\n",
       "      <th></th>\n",
       "      <th></th>\n",
       "      <th></th>\n",
       "      <th></th>\n",
       "      <th></th>\n",
       "      <th></th>\n",
       "      <th></th>\n",
       "      <th></th>\n",
       "      <th></th>\n",
       "      <th></th>\n",
       "      <th></th>\n",
       "      <th></th>\n",
       "      <th></th>\n",
       "      <th></th>\n",
       "      <th></th>\n",
       "      <th></th>\n",
       "    </tr>\n",
       "  </thead>\n",
       "  <tbody>\n",
       "    <tr>\n",
       "      <th>0</th>\n",
       "      <td>37</td>\n",
       "      <td>35000</td>\n",
       "      <td>0.0</td>\n",
       "      <td>6000</td>\n",
       "      <td>11.49</td>\n",
       "      <td>0.17</td>\n",
       "      <td>0</td>\n",
       "      <td>14</td>\n",
       "      <td>0</td>\n",
       "      <td>5.833333</td>\n",
       "      <td>...</td>\n",
       "      <td>0.521718</td>\n",
       "      <td>0.209254</td>\n",
       "      <td>0.347869</td>\n",
       "      <td>0.217627</td>\n",
       "      <td>0.645190</td>\n",
       "      <td>0.222575</td>\n",
       "      <td>0.107742</td>\n",
       "      <td>0.102314</td>\n",
       "      <td>0.141917</td>\n",
       "      <td>0.164781</td>\n",
       "    </tr>\n",
       "    <tr>\n",
       "      <th>1</th>\n",
       "      <td>22</td>\n",
       "      <td>56000</td>\n",
       "      <td>6.0</td>\n",
       "      <td>4000</td>\n",
       "      <td>13.35</td>\n",
       "      <td>0.07</td>\n",
       "      <td>0</td>\n",
       "      <td>2</td>\n",
       "      <td>0</td>\n",
       "      <td>14.000000</td>\n",
       "      <td>...</td>\n",
       "      <td>0.053516</td>\n",
       "      <td>0.186452</td>\n",
       "      <td>0.188192</td>\n",
       "      <td>0.778945</td>\n",
       "      <td>0.265208</td>\n",
       "      <td>0.013703</td>\n",
       "      <td>0.178176</td>\n",
       "      <td>0.135387</td>\n",
       "      <td>0.142354</td>\n",
       "      <td>0.107196</td>\n",
       "    </tr>\n",
       "    <tr>\n",
       "      <th>2</th>\n",
       "      <td>29</td>\n",
       "      <td>28800</td>\n",
       "      <td>8.0</td>\n",
       "      <td>6000</td>\n",
       "      <td>8.90</td>\n",
       "      <td>0.21</td>\n",
       "      <td>0</td>\n",
       "      <td>10</td>\n",
       "      <td>0</td>\n",
       "      <td>4.800000</td>\n",
       "      <td>...</td>\n",
       "      <td>0.053516</td>\n",
       "      <td>0.170780</td>\n",
       "      <td>0.357812</td>\n",
       "      <td>0.778945</td>\n",
       "      <td>0.265208</td>\n",
       "      <td>0.013703</td>\n",
       "      <td>0.132814</td>\n",
       "      <td>0.049187</td>\n",
       "      <td>0.142354</td>\n",
       "      <td>0.107196</td>\n",
       "    </tr>\n",
       "    <tr>\n",
       "      <th>3</th>\n",
       "      <td>30</td>\n",
       "      <td>70000</td>\n",
       "      <td>14.0</td>\n",
       "      <td>12000</td>\n",
       "      <td>11.11</td>\n",
       "      <td>0.17</td>\n",
       "      <td>0</td>\n",
       "      <td>5</td>\n",
       "      <td>0</td>\n",
       "      <td>5.833333</td>\n",
       "      <td>...</td>\n",
       "      <td>0.521718</td>\n",
       "      <td>0.170694</td>\n",
       "      <td>0.347869</td>\n",
       "      <td>0.778945</td>\n",
       "      <td>0.074185</td>\n",
       "      <td>0.222575</td>\n",
       "      <td>0.092816</td>\n",
       "      <td>0.102314</td>\n",
       "      <td>0.142354</td>\n",
       "      <td>0.080000</td>\n",
       "    </tr>\n",
       "    <tr>\n",
       "      <th>4</th>\n",
       "      <td>22</td>\n",
       "      <td>60000</td>\n",
       "      <td>2.0</td>\n",
       "      <td>6000</td>\n",
       "      <td>6.92</td>\n",
       "      <td>0.10</td>\n",
       "      <td>0</td>\n",
       "      <td>3</td>\n",
       "      <td>0</td>\n",
       "      <td>10.000000</td>\n",
       "      <td>...</td>\n",
       "      <td>0.521718</td>\n",
       "      <td>0.186452</td>\n",
       "      <td>0.357812</td>\n",
       "      <td>0.778945</td>\n",
       "      <td>0.645190</td>\n",
       "      <td>0.222575</td>\n",
       "      <td>0.178176</td>\n",
       "      <td>0.049187</td>\n",
       "      <td>0.142354</td>\n",
       "      <td>0.164781</td>\n",
       "    </tr>\n",
       "    <tr>\n",
       "      <th>...</th>\n",
       "      <td>...</td>\n",
       "      <td>...</td>\n",
       "      <td>...</td>\n",
       "      <td>...</td>\n",
       "      <td>...</td>\n",
       "      <td>...</td>\n",
       "      <td>...</td>\n",
       "      <td>...</td>\n",
       "      <td>...</td>\n",
       "      <td>...</td>\n",
       "      <td>...</td>\n",
       "      <td>...</td>\n",
       "      <td>...</td>\n",
       "      <td>...</td>\n",
       "      <td>...</td>\n",
       "      <td>...</td>\n",
       "      <td>...</td>\n",
       "      <td>...</td>\n",
       "      <td>...</td>\n",
       "      <td>...</td>\n",
       "      <td>...</td>\n",
       "    </tr>\n",
       "    <tr>\n",
       "      <th>58640</th>\n",
       "      <td>34</td>\n",
       "      <td>120000</td>\n",
       "      <td>5.0</td>\n",
       "      <td>25000</td>\n",
       "      <td>15.95</td>\n",
       "      <td>0.21</td>\n",
       "      <td>1</td>\n",
       "      <td>10</td>\n",
       "      <td>0</td>\n",
       "      <td>4.800000</td>\n",
       "      <td>...</td>\n",
       "      <td>0.423248</td>\n",
       "      <td>0.209254</td>\n",
       "      <td>0.085816</td>\n",
       "      <td>0.217627</td>\n",
       "      <td>0.645190</td>\n",
       "      <td>0.059715</td>\n",
       "      <td>0.107742</td>\n",
       "      <td>0.593601</td>\n",
       "      <td>0.141917</td>\n",
       "      <td>0.164781</td>\n",
       "    </tr>\n",
       "    <tr>\n",
       "      <th>58641</th>\n",
       "      <td>28</td>\n",
       "      <td>28800</td>\n",
       "      <td>0.0</td>\n",
       "      <td>10000</td>\n",
       "      <td>12.73</td>\n",
       "      <td>0.35</td>\n",
       "      <td>0</td>\n",
       "      <td>8</td>\n",
       "      <td>1</td>\n",
       "      <td>2.880000</td>\n",
       "      <td>...</td>\n",
       "      <td>0.521718</td>\n",
       "      <td>0.186452</td>\n",
       "      <td>0.188192</td>\n",
       "      <td>0.778945</td>\n",
       "      <td>0.645190</td>\n",
       "      <td>0.222575</td>\n",
       "      <td>0.178176</td>\n",
       "      <td>0.135387</td>\n",
       "      <td>0.142354</td>\n",
       "      <td>0.164781</td>\n",
       "    </tr>\n",
       "    <tr>\n",
       "      <th>58642</th>\n",
       "      <td>23</td>\n",
       "      <td>44000</td>\n",
       "      <td>7.0</td>\n",
       "      <td>6800</td>\n",
       "      <td>16.00</td>\n",
       "      <td>0.15</td>\n",
       "      <td>0</td>\n",
       "      <td>2</td>\n",
       "      <td>1</td>\n",
       "      <td>6.470588</td>\n",
       "      <td>...</td>\n",
       "      <td>0.521718</td>\n",
       "      <td>0.209254</td>\n",
       "      <td>0.085816</td>\n",
       "      <td>0.778945</td>\n",
       "      <td>0.265208</td>\n",
       "      <td>0.222575</td>\n",
       "      <td>0.107742</td>\n",
       "      <td>0.593601</td>\n",
       "      <td>0.142354</td>\n",
       "      <td>0.107196</td>\n",
       "    </tr>\n",
       "    <tr>\n",
       "      <th>58643</th>\n",
       "      <td>22</td>\n",
       "      <td>30000</td>\n",
       "      <td>2.0</td>\n",
       "      <td>5000</td>\n",
       "      <td>8.90</td>\n",
       "      <td>0.17</td>\n",
       "      <td>0</td>\n",
       "      <td>3</td>\n",
       "      <td>0</td>\n",
       "      <td>6.000000</td>\n",
       "      <td>...</td>\n",
       "      <td>0.521718</td>\n",
       "      <td>0.209254</td>\n",
       "      <td>0.357812</td>\n",
       "      <td>0.778945</td>\n",
       "      <td>0.645190</td>\n",
       "      <td>0.222575</td>\n",
       "      <td>0.107742</td>\n",
       "      <td>0.049187</td>\n",
       "      <td>0.142354</td>\n",
       "      <td>0.164781</td>\n",
       "    </tr>\n",
       "    <tr>\n",
       "      <th>58644</th>\n",
       "      <td>31</td>\n",
       "      <td>75000</td>\n",
       "      <td>2.0</td>\n",
       "      <td>15000</td>\n",
       "      <td>11.11</td>\n",
       "      <td>0.20</td>\n",
       "      <td>0</td>\n",
       "      <td>5</td>\n",
       "      <td>0</td>\n",
       "      <td>5.000000</td>\n",
       "      <td>...</td>\n",
       "      <td>0.423248</td>\n",
       "      <td>0.170694</td>\n",
       "      <td>0.347869</td>\n",
       "      <td>0.217627</td>\n",
       "      <td>0.645190</td>\n",
       "      <td>0.059715</td>\n",
       "      <td>0.092816</td>\n",
       "      <td>0.102314</td>\n",
       "      <td>0.141917</td>\n",
       "      <td>0.164781</td>\n",
       "    </tr>\n",
       "  </tbody>\n",
       "</table>\n",
       "<p>58637 rows × 25 columns</p>\n",
       "</div>"
      ],
      "text/plain": [
       "       person_age  person_income  person_emp_length  loan_amnt  loan_int_rate  \\\n",
       "id                                                                              \n",
       "0              37          35000                0.0       6000          11.49   \n",
       "1              22          56000                6.0       4000          13.35   \n",
       "2              29          28800                8.0       6000           8.90   \n",
       "3              30          70000               14.0      12000          11.11   \n",
       "4              22          60000                2.0       6000           6.92   \n",
       "...           ...            ...                ...        ...            ...   \n",
       "58640          34         120000                5.0      25000          15.95   \n",
       "58641          28          28800                0.0      10000          12.73   \n",
       "58642          23          44000                7.0       6800          16.00   \n",
       "58643          22          30000                2.0       5000           8.90   \n",
       "58644          31          75000                2.0      15000          11.11   \n",
       "\n",
       "       loan_percent_income  cb_person_default_on_file  \\\n",
       "id                                                      \n",
       "0                     0.17                          0   \n",
       "1                     0.07                          0   \n",
       "2                     0.21                          0   \n",
       "3                     0.17                          0   \n",
       "4                     0.10                          0   \n",
       "...                    ...                        ...   \n",
       "58640                 0.21                          1   \n",
       "58641                 0.35                          0   \n",
       "58642                 0.15                          0   \n",
       "58643                 0.17                          0   \n",
       "58644                 0.20                          0   \n",
       "\n",
       "       cb_person_cred_hist_length  loan_status  income_loan_ratio  ...  \\\n",
       "id                                                                 ...   \n",
       "0                              14            0           5.833333  ...   \n",
       "1                               2            0          14.000000  ...   \n",
       "2                              10            0           4.800000  ...   \n",
       "3                               5            0           5.833333  ...   \n",
       "4                               3            0          10.000000  ...   \n",
       "...                           ...          ...                ...  ...   \n",
       "58640                          10            0           4.800000  ...   \n",
       "58641                           8            1           2.880000  ...   \n",
       "58642                           2            1           6.470588  ...   \n",
       "58643                           3            0           6.000000  ...   \n",
       "58644                           5            0           5.000000  ...   \n",
       "\n",
       "       person_home_ownership_freq  loan_intent_freq  loan_grade_freq  \\\n",
       "id                                                                     \n",
       "0                        0.521718          0.209254         0.347869   \n",
       "1                        0.053516          0.186452         0.188192   \n",
       "2                        0.053516          0.170780         0.357812   \n",
       "3                        0.521718          0.170694         0.347869   \n",
       "4                        0.521718          0.186452         0.357812   \n",
       "...                           ...               ...              ...   \n",
       "58640                    0.423248          0.209254         0.085816   \n",
       "58641                    0.521718          0.186452         0.188192   \n",
       "58642                    0.521718          0.209254         0.085816   \n",
       "58643                    0.521718          0.209254         0.357812   \n",
       "58644                    0.423248          0.170694         0.347869   \n",
       "\n",
       "       age_category_freq  emp_length_group_freq  person_home_ownership_target  \\\n",
       "id                                                                              \n",
       "0               0.217627               0.645190                      0.222575   \n",
       "1               0.778945               0.265208                      0.013703   \n",
       "2               0.778945               0.265208                      0.013703   \n",
       "3               0.778945               0.074185                      0.222575   \n",
       "4               0.778945               0.645190                      0.222575   \n",
       "...                  ...                    ...                           ...   \n",
       "58640           0.217627               0.645190                      0.059715   \n",
       "58641           0.778945               0.645190                      0.222575   \n",
       "58642           0.778945               0.265208                      0.222575   \n",
       "58643           0.778945               0.645190                      0.222575   \n",
       "58644           0.217627               0.645190                      0.059715   \n",
       "\n",
       "       loan_intent_target  loan_grade_target  age_category_target  \\\n",
       "id                                                                  \n",
       "0                0.107742           0.102314             0.141917   \n",
       "1                0.178176           0.135387             0.142354   \n",
       "2                0.132814           0.049187             0.142354   \n",
       "3                0.092816           0.102314             0.142354   \n",
       "4                0.178176           0.049187             0.142354   \n",
       "...                   ...                ...                  ...   \n",
       "58640            0.107742           0.593601             0.141917   \n",
       "58641            0.178176           0.135387             0.142354   \n",
       "58642            0.107742           0.593601             0.142354   \n",
       "58643            0.107742           0.049187             0.142354   \n",
       "58644            0.092816           0.102314             0.141917   \n",
       "\n",
       "       emp_length_group_target  \n",
       "id                              \n",
       "0                     0.164781  \n",
       "1                     0.107196  \n",
       "2                     0.107196  \n",
       "3                     0.080000  \n",
       "4                     0.164781  \n",
       "...                        ...  \n",
       "58640                 0.164781  \n",
       "58641                 0.164781  \n",
       "58642                 0.107196  \n",
       "58643                 0.164781  \n",
       "58644                 0.164781  \n",
       "\n",
       "[58637 rows x 25 columns]"
      ]
     },
     "execution_count": 34,
     "metadata": {},
     "output_type": "execute_result"
    }
   ],
   "source": [
    "train.set_index('id')"
   ]
  },
  {
   "cell_type": "code",
   "execution_count": 35,
   "metadata": {},
   "outputs": [],
   "source": [
    "test_id = test['id']"
   ]
  },
  {
   "cell_type": "code",
   "execution_count": 36,
   "metadata": {},
   "outputs": [],
   "source": [
    "X = train.drop(['loan_status'], axis=1)\n",
    "y = train['loan_status']\n",
    "\n",
    "X_train, X_val, y_train, y_val = train_test_split(X, y, test_size=0.2, random_state=42)\n",
    "\n",
    "vars_num = X_train.select_dtypes(include=['float64', 'int64']).columns\n",
    "\n",
    "numeric_transformer = Pipeline(steps=[\n",
    "    ('imputer', SimpleImputer(strategy='median')),\n",
    "    ('scaler', StandardScaler())\n",
    "])\n",
    "preprocessor = ColumnTransformer(transformers=[\n",
    "    ('num', numeric_transformer, vars_num),\n",
    "])\n",
    "\n",
    "X_train = preprocessor.fit_transform(X_train)\n",
    "X_val = preprocessor.transform(X_val)"
   ]
  },
  {
   "cell_type": "code",
   "execution_count": 37,
   "metadata": {},
   "outputs": [
    {
     "name": "stdout",
     "output_type": "stream",
     "text": [
      "              precision    recall  f1-score   support\n",
      "\n",
      "           0       0.93      0.97      0.95     10045\n",
      "           1       0.77      0.56      0.65      1683\n",
      "\n",
      "    accuracy                           0.91     11728\n",
      "   macro avg       0.85      0.77      0.80     11728\n",
      "weighted avg       0.91      0.91      0.91     11728\n",
      "\n",
      "0.9131139154160982\n"
     ]
    }
   ],
   "source": [
    "model = LogisticRegression(random_state=42)\n",
    "\n",
    "model.fit(X_train, y_train)\n",
    "y_pred = model.predict(X_val)\n",
    "\n",
    "print(classification_report(y_val, y_pred))\n",
    "print(accuracy_score(y_val, y_pred))"
   ]
  },
  {
   "cell_type": "code",
   "execution_count": 38,
   "metadata": {},
   "outputs": [
    {
     "data": {
      "image/png": "[encoded data removed]",
      "text/plain": [
       "<Figure size 500x400 with 1 Axes>"
      ]
     },
     "metadata": {},
     "output_type": "display_data"
    }
   ],
   "source": [
    "y_prob = model.predict_proba(X_val)[:, 1]  # Probabilidades para la clase positiva\n",
    "fpr, tpr, thresholds = roc_curve(y_val, y_prob)\n",
    "roc_auc = auc(fpr, tpr)\n",
    "\n",
    "plt.figure(figsize=(5, 4))\n",
    "plt.plot(fpr, tpr, color='blue', lw=2, label=f'ROC curve (area = {roc_auc:.2f})')\n",
    "plt.plot([0, 1], [0, 1], color='gray', lw=2, linestyle='--', label='Random guess')\n",
    "plt.xlabel('False Positive Rate')\n",
    "plt.ylabel('True Positive Rate')\n",
    "plt.title('Receiver Operating Characteristic (ROC) Curve')\n",
    "plt.legend(loc='lower right')\n",
    "plt.grid()\n",
    "plt.show()\n"
   ]
  },
  {
   "cell_type": "code",
   "execution_count": 39,
   "metadata": {},
   "outputs": [
    {
     "data": {
      "text/plain": [
       "<Figure size 500x400 with 0 Axes>"
      ]
     },
     "metadata": {},
     "output_type": "display_data"
    },
    {
     "data": {
      "image/png": "[encoded data removed]",
      "text/plain": [
       "<Figure size 640x480 with 2 Axes>"
      ]
     },
     "metadata": {},
     "output_type": "display_data"
    }
   ],
   "source": [
    "cm = confusion_matrix(y_val, y_pred)\n",
    "disp = ConfusionMatrixDisplay(confusion_matrix=cm, display_labels=model.classes_)\n",
    "\n",
    "plt.figure(figsize=(5, 4))\n",
    "disp.plot(cmap='Blues', values_format='d')\n",
    "plt.title('Matriz de Confusión')\n",
    "plt.show()"
   ]
  },
  {
   "cell_type": "markdown",
   "metadata": {},
   "source": [
    "## Undersampling"
   ]
  },
  {
   "cell_type": "code",
   "execution_count": 40,
   "metadata": {},
   "outputs": [
    {
     "name": "stdout",
     "output_type": "stream",
     "text": [
      "original dataset shape: Counter({0: 40243, 1: 6666})\n",
      "Resample dataset shape Counter({0: 6666, 1: 6666})\n"
     ]
    }
   ],
   "source": [
    "from imblearn.under_sampling import RandomUnderSampler\n",
    "from collections import Counter\n",
    "\n",
    "rus = RandomUnderSampler(random_state=42, replacement=True)\n",
    "x_rus, y_rus = rus.fit_resample(X_train, y_train)\n",
    "\n",
    "print('original dataset shape:', Counter(y_train))\n",
    "print('Resample dataset shape', Counter(y_rus))"
   ]
  },
  {
   "cell_type": "code",
   "execution_count": 41,
   "metadata": {},
   "outputs": [
    {
     "name": "stdout",
     "output_type": "stream",
     "text": [
      "              precision    recall  f1-score   support\n",
      "\n",
      "           0       0.97      0.84      0.90     10045\n",
      "           1       0.46      0.83      0.59      1683\n",
      "\n",
      "    accuracy                           0.84     11728\n",
      "   macro avg       0.72      0.83      0.75     11728\n",
      "weighted avg       0.89      0.84      0.85     11728\n",
      "\n",
      "0.8378240109140518\n"
     ]
    }
   ],
   "source": [
    "model.fit(x_rus, y_rus)\n",
    "y_pred = model.predict(X_val)\n",
    "\n",
    "print(classification_report(y_val, y_pred))\n",
    "print(accuracy_score(y_val, y_pred))"
   ]
  },
  {
   "cell_type": "code",
   "execution_count": 42,
   "metadata": {},
   "outputs": [
    {
     "data": {
      "image/png": "[encoded data removed]",
      "text/plain": [
       "<Figure size 500x400 with 1 Axes>"
      ]
     },
     "metadata": {},
     "output_type": "display_data"
    }
   ],
   "source": [
    "y_prob = model.predict_proba(X_val)[:, 1]  # Probabilidades para la clase positiva\n",
    "fpr, tpr, thresholds = roc_curve(y_val, y_prob)\n",
    "roc_auc = auc(fpr, tpr)\n",
    "\n",
    "plt.figure(figsize=(5, 4))\n",
    "plt.plot(fpr, tpr, color='blue', lw=2, label=f'ROC curve (area = {roc_auc:.2f})')\n",
    "plt.plot([0, 1], [0, 1], color='gray', lw=2, linestyle='--', label='Random guess')\n",
    "plt.xlabel('False Positive Rate')\n",
    "plt.ylabel('True Positive Rate')\n",
    "plt.title('Receiver Operating Characteristic (ROC) Curve')\n",
    "plt.legend(loc='lower right')\n",
    "plt.grid()\n",
    "plt.show()"
   ]
  },
  {
   "cell_type": "code",
   "execution_count": 43,
   "metadata": {},
   "outputs": [
    {
     "data": {
      "text/plain": [
       "<Figure size 500x400 with 0 Axes>"
      ]
     },
     "metadata": {},
     "output_type": "display_data"
    },
    {
     "data": {
      "image/png": "[encoded data removed]",
      "text/plain": [
       "<Figure size 640x480 with 2 Axes>"
      ]
     },
     "metadata": {},
     "output_type": "display_data"
    }
   ],
   "source": [
    "cm = confusion_matrix(y_val, y_pred)\n",
    "disp = ConfusionMatrixDisplay(confusion_matrix=cm, display_labels=model.classes_)\n",
    "\n",
    "plt.figure(figsize=(5, 4))\n",
    "disp.plot(cmap='Blues', values_format='d')\n",
    "plt.title('Matriz de Confusión')\n",
    "plt.show()"
   ]
  },
  {
   "cell_type": "markdown",
   "metadata": {},
   "source": [
    "# Random Over Sampling"
   ]
  },
  {
   "cell_type": "code",
   "execution_count": 44,
   "metadata": {},
   "outputs": [
    {
     "name": "stdout",
     "output_type": "stream",
     "text": [
      "original dataset shape: Counter({0: 40243, 1: 6666})\n",
      "Resample dataset shape Counter({0: 40243, 1: 40243})\n"
     ]
    }
   ],
   "source": [
    "from imblearn.over_sampling import RandomOverSampler\n",
    "\n",
    "smote = RandomOverSampler()\n",
    "x_ros, y_ros = smote.fit_resample(X_train, y_train)\n",
    "\n",
    "print('original dataset shape:', Counter(y_train))\n",
    "print('Resample dataset shape', Counter(y_ros))"
   ]
  },
  {
   "cell_type": "code",
   "execution_count": 45,
   "metadata": {},
   "outputs": [
    {
     "name": "stdout",
     "output_type": "stream",
     "text": [
      "              precision    recall  f1-score   support\n",
      "\n",
      "           0       0.97      0.84      0.90     10045\n",
      "           1       0.47      0.83      0.60      1683\n",
      "\n",
      "    accuracy                           0.84     11728\n",
      "   macro avg       0.72      0.83      0.75     11728\n",
      "weighted avg       0.89      0.84      0.86     11728\n",
      "\n",
      "0.8398703956343793\n"
     ]
    }
   ],
   "source": [
    "model.fit(x_ros, y_ros)\n",
    "y_pred = model.predict(X_val)\n",
    "\n",
    "print(classification_report(y_val, y_pred))\n",
    "print(accuracy_score(y_val, y_pred))"
   ]
  },
  {
   "cell_type": "code",
   "execution_count": 46,
   "metadata": {},
   "outputs": [
    {
     "data": {
      "image/png": "[encoded data removed]",
      "text/plain": [
       "<Figure size 500x400 with 1 Axes>"
      ]
     },
     "metadata": {},
     "output_type": "display_data"
    }
   ],
   "source": [
    "y_prob = model.predict_proba(X_val)[:, 1]  # Probabilidades para la clase positiva\n",
    "fpr, tpr, thresholds = roc_curve(y_val, y_prob)\n",
    "roc_auc = auc(fpr, tpr)\n",
    "\n",
    "plt.figure(figsize=(5, 4))\n",
    "plt.plot(fpr, tpr, color='blue', lw=2, label=f'ROC curve (area = {roc_auc:.2f})')\n",
    "plt.plot([0, 1], [0, 1], color='gray', lw=2, linestyle='--', label='Random guess')\n",
    "plt.xlabel('False Positive Rate')\n",
    "plt.ylabel('True Positive Rate')\n",
    "plt.title('Receiver Operating Characteristic (ROC) Curve')\n",
    "plt.legend(loc='lower right')\n",
    "plt.grid()\n",
    "plt.show()"
   ]
  },
  {
   "cell_type": "code",
   "execution_count": 47,
   "metadata": {},
   "outputs": [
    {
     "data": {
      "text/plain": [
       "<Figure size 500x400 with 0 Axes>"
      ]
     },
     "metadata": {},
     "output_type": "display_data"
    },
    {
     "data": {
      "image/png": "[encoded data removed]",
      "text/plain": [
       "<Figure size 640x480 with 2 Axes>"
      ]
     },
     "metadata": {},
     "output_type": "display_data"
    }
   ],
   "source": [
    "cm = confusion_matrix(y_val, y_pred)\n",
    "disp = ConfusionMatrixDisplay(confusion_matrix=cm, display_labels=model.classes_)\n",
    "\n",
    "plt.figure(figsize=(5, 4))\n",
    "disp.plot(cmap='Blues', values_format='d')\n",
    "plt.title('Matriz de Confusión')\n",
    "plt.show()"
   ]
  },
  {
   "cell_type": "markdown",
   "metadata": {},
   "source": [
    "# SMOTE"
   ]
  },
  {
   "cell_type": "code",
   "execution_count": 48,
   "metadata": {},
   "outputs": [
    {
     "name": "stdout",
     "output_type": "stream",
     "text": [
      "Original dataset shape Counter({0: 40243, 1: 6666})\n",
      "Resample dataset shape Counter({0: 40243, 1: 40243})\n"
     ]
    }
   ],
   "source": [
    "from imblearn.over_sampling import SMOTE\n",
    "\n",
    "smote = SMOTE()\n",
    "x_smote, y_smote = smote.fit_resample(X_train, y_train)\n",
    "\n",
    "print('Original dataset shape', Counter(y_train))\n",
    "print('Resample dataset shape', Counter(y_smote))"
   ]
  },
  {
   "cell_type": "markdown",
   "metadata": {},
   "source": [
    "# Comparativa"
   ]
  },
  {
   "cell_type": "code",
   "execution_count": 49,
   "metadata": {},
   "outputs": [
    {
     "name": "stdout",
     "output_type": "stream",
     "text": [
      "ROC-AUC score DF Original: 0.77\n",
      "ROC-AUC score Under-sampling: 0.83\n",
      "ROC-AUC score Over-sampling: 0.83\n",
      "ROC-AUC score SMOTE: 0.84\n"
     ]
    }
   ],
   "source": [
    "model.fit(X_train, y_train)\n",
    "predict_y = model.predict(X_val)\n",
    "\n",
    "print('ROC-AUC score DF Original:',round(roc_auc_score(y_val, predict_y),2))\n",
    "\n",
    "model.fit(x_rus, y_rus)\n",
    "predict_y = model.predict(X_val)\n",
    "print('ROC-AUC score Under-sampling:',round(roc_auc_score(y_val, predict_y),2))\n",
    "\n",
    "model.fit(x_ros, y_ros)\n",
    "predict_y = model.predict(X_val)\n",
    "print('ROC-AUC score Over-sampling:',round(roc_auc_score(y_val, predict_y),2))\n",
    "\n",
    "model.fit(x_smote, y_smote)\n",
    "predict_y = model.predict(X_val)\n",
    "print('ROC-AUC score SMOTE:',round(roc_auc_score(y_val, predict_y),2))"
   ]
  },
  {
   "cell_type": "markdown",
   "metadata": {},
   "source": [
    "#### Despues del feature engineering, el modelo no parece haber mejorado mucho (apenas)."
   ]
  },
  {
   "cell_type": "markdown",
   "metadata": {},
   "source": [
    "### Guardar resultados de test para subir a kaggle"
   ]
  },
  {
   "cell_type": "code",
   "execution_count": 50,
   "metadata": {},
   "outputs": [],
   "source": [
    "# Transformaciones\n",
    "test = preprocessor.fit_transform(test)"
   ]
  },
  {
   "cell_type": "code",
   "execution_count": 51,
   "metadata": {},
   "outputs": [],
   "source": [
    "y_pred = model.predict(test)"
   ]
  },
  {
   "cell_type": "code",
   "execution_count": 52,
   "metadata": {},
   "outputs": [
    {
     "data": {
      "text/plain": [
       "array([1, 0, 1, ..., 0, 1, 1])"
      ]
     },
     "execution_count": 52,
     "metadata": {},
     "output_type": "execute_result"
    }
   ],
   "source": [
    "y_pred"
   ]
  },
  {
   "cell_type": "code",
   "execution_count": 53,
   "metadata": {},
   "outputs": [],
   "source": [
    "predictions = pd.DataFrame(y_pred)"
   ]
  },
  {
   "cell_type": "code",
   "execution_count": 54,
   "metadata": {},
   "outputs": [],
   "source": [
    "predictions = predictions.reset_index().rename(columns={\n",
    "    'index':'id',\n",
    "    0:'loan_status'\n",
    "})"
   ]
  },
  {
   "cell_type": "code",
   "execution_count": 55,
   "metadata": {},
   "outputs": [],
   "source": [
    "predictions['id'] = test_id"
   ]
  },
  {
   "cell_type": "code",
   "execution_count": 56,
   "metadata": {},
   "outputs": [
    {
     "data": {
      "text/html": [
       "<div>\n",
       "<style scoped>\n",
       "    .dataframe tbody tr th:only-of-type {\n",
       "        vertical-align: middle;\n",
       "    }\n",
       "\n",
       "    .dataframe tbody tr th {\n",
       "        vertical-align: top;\n",
       "    }\n",
       "\n",
       "    .dataframe thead th {\n",
       "        text-align: right;\n",
       "    }\n",
       "</style>\n",
       "<table border=\"1\" class=\"dataframe\">\n",
       "  <thead>\n",
       "    <tr style=\"text-align: right;\">\n",
       "      <th></th>\n",
       "      <th>id</th>\n",
       "      <th>loan_status</th>\n",
       "    </tr>\n",
       "  </thead>\n",
       "  <tbody>\n",
       "    <tr>\n",
       "      <th>0</th>\n",
       "      <td>58645</td>\n",
       "      <td>1</td>\n",
       "    </tr>\n",
       "    <tr>\n",
       "      <th>1</th>\n",
       "      <td>58646</td>\n",
       "      <td>0</td>\n",
       "    </tr>\n",
       "    <tr>\n",
       "      <th>2</th>\n",
       "      <td>58647</td>\n",
       "      <td>1</td>\n",
       "    </tr>\n",
       "    <tr>\n",
       "      <th>3</th>\n",
       "      <td>58648</td>\n",
       "      <td>0</td>\n",
       "    </tr>\n",
       "    <tr>\n",
       "      <th>4</th>\n",
       "      <td>58649</td>\n",
       "      <td>1</td>\n",
       "    </tr>\n",
       "  </tbody>\n",
       "</table>\n",
       "</div>"
      ],
      "text/plain": [
       "      id  loan_status\n",
       "0  58645            1\n",
       "1  58646            0\n",
       "2  58647            1\n",
       "3  58648            0\n",
       "4  58649            1"
      ]
     },
     "execution_count": 56,
     "metadata": {},
     "output_type": "execute_result"
    }
   ],
   "source": [
    "predictions.head()"
   ]
  },
  {
   "cell_type": "code",
   "execution_count": 57,
   "metadata": {},
   "outputs": [],
   "source": [
    "predictions.to_csv('baseline_predictions_features.csv', index=False)"
   ]
  }
 ],
 "metadata": {
  "kernelspec": {
   "display_name": "env-analisis-predictivo",
   "language": "python",
   "name": "python3"
  },
  "language_info": {
   "codemirror_mode": {
    "name": "ipython",
    "version": 3
   },
   "file_extension": ".py",
   "mimetype": "text/x-python",
   "name": "python",
   "nbconvert_exporter": "python",
   "pygments_lexer": "ipython3",
   "version": "3.9.21"
  }
 },
 "nbformat": 4,
 "nbformat_minor": 2
}
